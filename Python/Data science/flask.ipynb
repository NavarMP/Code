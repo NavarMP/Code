{
 "cells": [
  {
   "cell_type": "code",
   "execution_count": 35,
   "metadata": {},
   "outputs": [],
   "source": [
    "import pandas as pd"
   ]
  },
  {
   "cell_type": "code",
   "execution_count": 36,
   "metadata": {},
   "outputs": [],
   "source": [
    "data = pd.read_excel (\"stressdata.xlsx\")"
   ]
  },
  {
   "cell_type": "code",
   "execution_count": 37,
   "metadata": {},
   "outputs": [],
   "source": [
    "# 8 attributes and 1 target\n",
    "X = data.iloc [:,0:8]\n",
    "y = data.iloc [:,8]\n",
    "\n",
    "from sklearn.tree import DecisionTreeClassifier\n",
    "dtc = DecisionTreeClassifier()\n",
    "dd = dtc.fit (X, y)"
   ]
  },
  {
   "cell_type": "code",
   "execution_count": 38,
   "metadata": {},
   "outputs": [],
   "source": [
    "from sklearn.model_selection import train_test_split\n",
    "X_train, X_test, y_train, y_test = train_test_split(X, y, test_size=0.2)\n",
    "\n",
    "from sklearn.metrics import accuracy_score"
   ]
  },
  {
   "cell_type": "code",
   "execution_count": 39,
   "metadata": {},
   "outputs": [],
   "source": [
    "y_score = dd.predict (X_train)"
   ]
  },
  {
   "cell_type": "code",
   "execution_count": 40,
   "metadata": {},
   "outputs": [],
   "source": [
    "# accuracy = accuracy_score (y_test, y_score)\n",
    "# accuracy"
   ]
  },
  {
   "cell_type": "code",
   "execution_count": 41,
   "metadata": {},
   "outputs": [],
   "source": [
    "# print (X.shape)\n",
    "# print (y.shape)"
   ]
  },
  {
   "cell_type": "code",
   "execution_count": 42,
   "metadata": {},
   "outputs": [],
   "source": [
    "from flask import Flask, render_template, request"
   ]
  },
  {
   "cell_type": "code",
   "execution_count": 43,
   "metadata": {},
   "outputs": [
    {
     "name": "stdout",
     "output_type": "stream",
     "text": [
      " * Serving Flask app '__main__'\n",
      " * Debug mode: off\n"
     ]
    },
    {
     "name": "stderr",
     "output_type": "stream",
     "text": [
      "WARNING: This is a development server. Do not use it in a production deployment. Use a production WSGI server instead.\n",
      " * Running on http://127.0.0.1:5000\n",
      "Press CTRL+C to quit\n",
      "127.0.0.1 - - [08/Nov/2024 15:58:27] \"GET / HTTP/1.1\" 200 -\n",
      "127.0.0.1 - - [08/Nov/2024 15:58:28] \"GET /analysis HTTP/1.1\" 200 -\n",
      "c:\\ProgramData\\anaconda3\\Lib\\site-packages\\sklearn\\base.py:493: UserWarning: X does not have valid feature names, but DecisionTreeClassifier was fitted with feature names\n",
      "  warnings.warn(\n",
      "127.0.0.1 - - [08/Nov/2024 15:58:41] \"POST /analysis HTTP/1.1\" 200 -\n",
      "127.0.0.1 - - [08/Nov/2024 16:04:51] \"GET /analysis HTTP/1.1\" 200 -\n",
      "c:\\ProgramData\\anaconda3\\Lib\\site-packages\\sklearn\\base.py:493: UserWarning: X does not have valid feature names, but DecisionTreeClassifier was fitted with feature names\n",
      "  warnings.warn(\n",
      "127.0.0.1 - - [08/Nov/2024 16:05:08] \"POST /analysis HTTP/1.1\" 200 -\n",
      "127.0.0.1 - - [08/Nov/2024 16:05:10] \"GET /analysis HTTP/1.1\" 200 -\n",
      "c:\\ProgramData\\anaconda3\\Lib\\site-packages\\sklearn\\base.py:493: UserWarning: X does not have valid feature names, but DecisionTreeClassifier was fitted with feature names\n",
      "  warnings.warn(\n",
      "127.0.0.1 - - [08/Nov/2024 16:05:32] \"POST /analysis HTTP/1.1\" 200 -\n",
      "127.0.0.1 - - [08/Nov/2024 16:05:34] \"GET /analysis HTTP/1.1\" 200 -\n"
     ]
    }
   ],
   "source": [
    "app = Flask (__name__)\n",
    "\n",
    "@app.route ('/')\n",
    "def home():\n",
    "    return render_template ('main.html')\n",
    "\n",
    "@app.route ('/analysis', methods = ['GET', 'POST'])\n",
    "def analysis():\n",
    "    if request.method == 'POST':\n",
    "        \n",
    "        name = request.form[\"name\"]\n",
    "        age = request.form[\"age\"]\n",
    "        gender = request.form[\"gender\"]\n",
    "        \n",
    "        feelDown = request.form[\"feelDown\"]\n",
    "        overReacting = request.form[\"overReacting\"]\n",
    "        feelBadYourself = request.form[\"feelBadYourself\"]\n",
    "        tired = request.form[\"tired\"]\n",
    "        interest = request.form[\"interest\"]\n",
    "        thoughtOfDeath = request.form[\"thoughtOfDeath\"]\n",
    "        \n",
    "        test = [int(age), int(gender), int(feelDown), int(overReacting), int(feelBadYourself), int(tired), int(interest), int(thoughtOfDeath)]\n",
    "        res = dd.predict([test])\n",
    "        return res [0]\n",
    "\n",
    "    return render_template ('analysis.html')\n",
    "\n",
    "@app.route ('/review', methods = ['GET', 'POST'])\n",
    "def review():\n",
    "    return render_template ('review.html')\n",
    "\n",
    "if __name__ == '__main__':\n",
    "    app.run()"
   ]
  }
 ],
 "metadata": {
  "kernelspec": {
   "display_name": "Python 3",
   "language": "python",
   "name": "python3"
  },
  "language_info": {
   "codemirror_mode": {
    "name": "ipython",
    "version": 3
   },
   "file_extension": ".py",
   "mimetype": "text/x-python",
   "name": "python",
   "nbconvert_exporter": "python",
   "pygments_lexer": "ipython3",
   "version": "3.12.7"
  }
 },
 "nbformat": 4,
 "nbformat_minor": 2
}
