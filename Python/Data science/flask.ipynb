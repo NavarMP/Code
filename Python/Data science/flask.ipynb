{
 "cells": [
  {
   "cell_type": "code",
   "execution_count": 2,
   "metadata": {},
   "outputs": [],
   "source": [
    "from flask import Flask, render_template"
   ]
  },
  {
   "cell_type": "code",
   "execution_count": 11,
   "metadata": {},
   "outputs": [
    {
     "name": "stdout",
     "output_type": "stream",
     "text": [
      " * Serving Flask app '__main__'\n",
      " * Debug mode: off\n"
     ]
    },
    {
     "name": "stderr",
     "output_type": "stream",
     "text": [
      "WARNING: This is a development server. Do not use it in a production deployment. Use a production WSGI server instead.\n",
      " * Running on http://127.0.0.1:5000\n",
      "Press CTRL+C to quit\n"
     ]
    }
   ],
   "source": [
    "app = Flask (__name__)\n",
    "\n",
    "@app.route ('/')\n",
    "def home():\n",
    "    return render_template ('main.html')\n",
    "\n",
    "@app.route ('/analysis')\n",
    "def analysis():\n",
    "    return render_template ('analysis.html')\n",
    "\n",
    "@app.route ('/review')\n",
    "def review():\n",
    "    return render_template ('review.html')\n",
    "\n",
    "@app.route ('/about')\n",
    "def about():\n",
    "    return \"I'm Muhammed navar\"\n",
    "\n",
    "@app.route ('/contact')\n",
    "def contact():\n",
    "    return \"Mail: navarmp@gmail.com, \\n Ph: +91 9746 902268\"\n",
    "\n",
    "if __name__ == '__main__':\n",
    "    app.run()"
   ]
  }
 ],
 "metadata": {
  "kernelspec": {
   "display_name": "Python 3",
   "language": "python",
   "name": "python3"
  },
  "language_info": {
   "codemirror_mode": {
    "name": "ipython",
    "version": 3
   },
   "file_extension": ".py",
   "mimetype": "text/x-python",
   "name": "python",
   "nbconvert_exporter": "python",
   "pygments_lexer": "ipython3",
   "version": "3.12.7"
  }
 },
 "nbformat": 4,
 "nbformat_minor": 2
}
