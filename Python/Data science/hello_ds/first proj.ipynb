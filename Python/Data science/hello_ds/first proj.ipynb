{
 "cells": [
  {
   "cell_type": "code",
   "execution_count": 3,
   "metadata": {},
   "outputs": [],
   "source": [
    "import pandas as pd\n",
    "import numpy as np"
   ]
  },
  {
   "cell_type": "code",
   "execution_count": 7,
   "metadata": {},
   "outputs": [
    {
     "name": "stdout",
     "output_type": "stream",
     "text": [
      "   a1  a2  a3  result\n",
      "0   1   1   1       1\n",
      "1   1   1   0       1\n",
      "2   1   0   1       1\n",
      "3   0   0   0       0\n",
      "4   0   0   1       0\n"
     ]
    }
   ],
   "source": [
    "data = pd.read_excel (\"example data.xlsx\")\n",
    "\n",
    "print (data)"
   ]
  },
  {
   "cell_type": "code",
   "execution_count": 12,
   "metadata": {},
   "outputs": [
    {
     "name": "stdout",
     "output_type": "stream",
     "text": [
      "['a1', 'a2', 'a3']\n",
      "['result']\n"
     ]
    }
   ],
   "source": [
    "feat = [\"a1\", \"a2\", \"a3\"]\n",
    "target = [\"result\"]\n",
    "\n",
    "print (feat)\n",
    "print (target)"
   ]
  },
  {
   "cell_type": "code",
   "execution_count": 15,
   "metadata": {},
   "outputs": [
    {
     "name": "stdout",
     "output_type": "stream",
     "text": [
      "   a1  a2  a3\n",
      "0   1   1   1\n",
      "1   1   1   0\n",
      "2   1   0   1\n",
      "3   0   0   0\n",
      "4   0   0   1\n",
      "   result\n",
      "0       1\n",
      "1       1\n",
      "2       1\n",
      "3       0\n",
      "4       0\n"
     ]
    }
   ],
   "source": [
    "x = data.loc [:, feat]\n",
    "y = data.loc [:, target]\n",
    "\n",
    "print (x)\n",
    "print (y)"
   ]
  }
 ],
 "metadata": {
  "kernelspec": {
   "display_name": "Python 3",
   "language": "python",
   "name": "python3"
  },
  "language_info": {
   "codemirror_mode": {
    "name": "ipython",
    "version": 3
   },
   "file_extension": ".py",
   "mimetype": "text/x-python",
   "name": "python",
   "nbconvert_exporter": "python",
   "pygments_lexer": "ipython3",
   "version": "3.10.7"
  }
 },
 "nbformat": 4,
 "nbformat_minor": 2
}
